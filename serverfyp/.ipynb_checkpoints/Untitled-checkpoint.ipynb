{
 "cells": [
  {
   "cell_type": "code",
   "execution_count": 2,
   "metadata": {},
   "outputs": [
    {
     "data": {
      "image/png": "[encoded data removed]",
      "text/plain": [
       "<Figure size 720x720 with 1 Axes>"
      ]
     },
     "metadata": {},
     "output_type": "display_data"
    },
    {
     "data": {
      "text/plain": [
       "<Figure size 432x288 with 0 Axes>"
      ]
     },
     "metadata": {},
     "output_type": "display_data"
    },
    {
     "data": {
      "text/plain": [
       "<Figure size 432x288 with 0 Axes>"
      ]
     },
     "metadata": {},
     "output_type": "display_data"
    },
    {
     "data": {
      "text/plain": [
       "<Figure size 432x288 with 0 Axes>"
      ]
     },
     "metadata": {},
     "output_type": "display_data"
    },
    {
     "ename": "AttributeError",
     "evalue": "'list' object has no attribute 'copy'",
     "output_type": "error",
     "traceback": [
      "\u001b[0;31m---------------------------------------------------------------------------\u001b[0m",
      "\u001b[0;31mAttributeError\u001b[0m                            Traceback (most recent call last)",
      "\u001b[0;32m<ipython-input-2-f7685b98f82a>\u001b[0m in \u001b[0;36m<module>\u001b[0;34m()\u001b[0m\n\u001b[1;32m     74\u001b[0m         \u001b[0;32mif\u001b[0m \u001b[0mlen\u001b[0m\u001b[0;34m(\u001b[0m\u001b[0mdistances\u001b[0m\u001b[0;34m)\u001b[0m \u001b[0;34m>\u001b[0m \u001b[0mMIN_SAMPLES\u001b[0m\u001b[0;34m:\u001b[0m\u001b[0;34m\u001b[0m\u001b[0m\n\u001b[1;32m     75\u001b[0m             \u001b[0mslam\u001b[0m\u001b[0;34m.\u001b[0m\u001b[0mupdate\u001b[0m\u001b[0;34m(\u001b[0m\u001b[0mdistances\u001b[0m\u001b[0;34m,\u001b[0m \u001b[0mscan_angles_degrees\u001b[0m\u001b[0;34m=\u001b[0m\u001b[0mangles\u001b[0m\u001b[0;34m)\u001b[0m\u001b[0;34m\u001b[0m\u001b[0m\n\u001b[0;32m---> 76\u001b[0;31m             \u001b[0mprevious_distances\u001b[0m \u001b[0;34m=\u001b[0m \u001b[0mdistances\u001b[0m\u001b[0;34m.\u001b[0m\u001b[0mcopy\u001b[0m\u001b[0;34m(\u001b[0m\u001b[0;34m)\u001b[0m\u001b[0;34m\u001b[0m\u001b[0m\n\u001b[0m\u001b[1;32m     77\u001b[0m             \u001b[0mprevious_angles\u001b[0m    \u001b[0;34m=\u001b[0m \u001b[0mangles\u001b[0m\u001b[0;34m.\u001b[0m\u001b[0mcopy\u001b[0m\u001b[0;34m(\u001b[0m\u001b[0;34m)\u001b[0m\u001b[0;34m\u001b[0m\u001b[0m\n\u001b[1;32m     78\u001b[0m \u001b[0;34m\u001b[0m\u001b[0m\n",
      "\u001b[0;31mAttributeError\u001b[0m: 'list' object has no attribute 'copy'"
     ]
    },
    {
     "data": {
      "text/plain": [
       "<Figure size 432x288 with 0 Axes>"
      ]
     },
     "metadata": {},
     "output_type": "display_data"
    }
   ],
   "source": [
    "#!/usr/bin/env python3\n",
    "\n",
    "'''\n",
    "rpslam.py : BreezySLAM Python with SLAMTECH RP A1 Lidar\n",
    "                 \n",
    "Copyright (C) 2018 Simon D. Levy\n",
    "\n",
    "This code is free software: you can redistribute it and/or modify\n",
    "it under the terms of the GNU Lesser General Public License as \n",
    "published by the Free Software Foundation, either version 3 of the \n",
    "License, or (at your option) any later version.\n",
    "\n",
    "This code is distributed in the hope that it will be useful,     \n",
    "but WITHOUT ANY WARRANTY without even the implied warranty of\n",
    "MERCHANTABILITY or FITNESS FOR A PARTICULAR PURPOSE.  See the\n",
    "GNU General Public License for more details.\n",
    "\n",
    "You should have received a copy of the GNU Lesser General Public License \n",
    "along with this code.  If not, see <http://www.gnu.org/licenses/>.\n",
    "'''\n",
    "\n",
    "MAP_SIZE_PIXELS         = 500\n",
    "MAP_SIZE_METERS         = 10\n",
    "LIDAR_DEVICE            = '/dev/ttyUSB0'\n",
    "\n",
    "\n",
    "# Ideally we could use all 250 or so samples that the RPLidar delivers in one \n",
    "# scan, but on slower computers you'll get an empty map and unchanging position\n",
    "# at that rate.\n",
    "MIN_SAMPLES   = 200\n",
    "\n",
    "from breezyslam.algorithms import RMHC_SLAM\n",
    "from breezyslam.sensors import RPLidarA1 as LaserModel\n",
    "from rplidar import RPLidar as Lidar\n",
    "from roboviz import MapVisualizer\n",
    "import copy\n",
    "\n",
    "if __name__ == '__main__':\n",
    "\n",
    "    # Connect to Lidar unit\n",
    "    lidar = Lidar(LIDAR_DEVICE)\n",
    "\n",
    "    # Create an RMHC SLAM object with a laser model and optional robot model\n",
    "    slam = RMHC_SLAM(LaserModel(), MAP_SIZE_PIXELS, MAP_SIZE_METERS)\n",
    "\n",
    "    # Set up a SLAM display\n",
    "    viz = MapVisualizer(MAP_SIZE_PIXELS, MAP_SIZE_METERS, 'SLAM')\n",
    "\n",
    "    # Initialize an empty trajectory\n",
    "    trajectory = []\n",
    "\n",
    "    # Initialize empty map\n",
    "    mapbytes = bytearray(MAP_SIZE_PIXELS * MAP_SIZE_PIXELS)\n",
    "\n",
    "    # Create an iterator to collect scan data from the RPLidar\n",
    "    iterator = lidar.iter_scans()\n",
    "\n",
    "    # We will use these to store previous scan in case current scan is inadequate\n",
    "    previous_distances = None\n",
    "    previous_angles    = None\n",
    "\n",
    "    # First scan is crap, so ignore it\n",
    "    next(iterator)\n",
    "\n",
    "    while True:\n",
    "\n",
    "        # Extract (quality, angle, distance) triples from current scan\n",
    "        items = [item for item in next(iterator)]\n",
    "\n",
    "        # Extract distances and angles from triples\n",
    "        distances = [item[2] for item in items]\n",
    "        angles    = [item[1] for item in items]\n",
    "\n",
    "        # Update SLAM with current Lidar scan and scan angles if adequate\n",
    "        if len(distances) > MIN_SAMPLES:\n",
    "            slam.update(distances, scan_angles_degrees=angles)\n",
    "            previous_distances = copy.copy(distances)\n",
    "            previous_angles    = copy.copy(angles)\n",
    "\n",
    "        # If not adequate, use previous\n",
    "        elif previous_distances is not None:\n",
    "            slam.update(previous_distances, scan_angles_degrees=previous_angles)\n",
    "\n",
    "        # Get current robot position\n",
    "        x, y, theta = slam.getpos()\n",
    "\n",
    "        # Get current map bytes as grayscale\n",
    "        slam.getmap(mapbytes)\n",
    "\n",
    "        # Display map and robot pose, exiting gracefully if user closes it\n",
    "        if not viz.display(x/1000., y/1000., theta, mapbytes):\n",
    "            exit(0)\n",
    " \n",
    "    # Shut down the lidar connection\n",
    "    lidar.stop()\n",
    "    lidar.disconnect()"
   ]
  },
  {
   "cell_type": "code",
   "execution_count": null,
   "metadata": {},
   "outputs": [],
   "source": []
  }
 ],
 "metadata": {
  "kernelspec": {
   "display_name": "Python 2",
   "language": "python",
   "name": "python2"
  },
  "language_info": {
   "codemirror_mode": {
    "name": "ipython",
    "version": 2
   },
   "file_extension": ".py",
   "mimetype": "text/x-python",
   "name": "python",
   "nbconvert_exporter": "python",
   "pygments_lexer": "ipython2",
   "version": "2.7.15"
  }
 },
 "nbformat": 4,
 "nbformat_minor": 2
}
